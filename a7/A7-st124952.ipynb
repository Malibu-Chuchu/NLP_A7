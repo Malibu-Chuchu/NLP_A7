{
 "cells": [
  {
   "attachments": {},
   "cell_type": "markdown",
   "metadata": {},
   "source": [
    "# [DistilBERT, a distilled version of BERT: smaller, faster, cheaper and lighter](https://arxiv.org/abs/1910.01108)\n",
    "\n",
    "In this lecture, we will explore the architecture of DistilBERT, its key components, and how it can be utilized for various natural language processing tasks. Additionally, we'll discuss its advantages, limitations, and provide hands-on examples to showcase its effectiveness.\n",
    "\n",
    "Reference : [The Theory](https://towardsdatascience.com/distillation-of-bert-like-models-the-code-73c31e8c2b0a) | [Code](https://towardsdatascience.com/distillation-of-bert-like-models-the-theory-32e19a02641f)"
   ]
  },
  {
   "cell_type": "code",
   "execution_count": 1,
   "metadata": {},
   "outputs": [],
   "source": [
    "import os\n",
    "# Set GPU device\n",
    "os.environ[\"CUDA_VISIBLE_DEVICES\"] = \"3\"\n",
    "\n",
    "os.environ['http_proxy']  = 'http://192.41.170.23:3128'\n",
    "os.environ['https_proxy'] = 'http://192.41.170.23:3128'"
   ]
  },
  {
   "cell_type": "code",
   "execution_count": 2,
   "metadata": {},
   "outputs": [
    {
     "data": {
      "text/plain": [
       "('3.2.0', '4.38.2', '2.3.0+cu121')"
      ]
     },
     "execution_count": 2,
     "metadata": {},
     "output_type": "execute_result"
    }
   ],
   "source": [
    "# !pip install datasets --upgrade\n",
    "import datasets\n",
    "import transformers\n",
    "import torch\n",
    "datasets.__version__, transformers.__version__, torch.__version__"
   ]
  },
  {
   "cell_type": "code",
   "execution_count": 3,
   "metadata": {},
   "outputs": [
    {
     "name": "stdout",
     "output_type": "stream",
     "text": [
      "cuda\n"
     ]
    }
   ],
   "source": [
    "import torch.nn as nn\n",
    "import torch\n",
    "from tqdm.auto import tqdm\n",
    "import random, math, time\n",
    "\n",
    "device = torch.device('cuda' if torch.cuda.is_available() else 'cpu')\n",
    "print(device)\n",
    "\n",
    "#make our work comparable if restarted the kernel\n",
    "SEED = 1234\n",
    "torch.manual_seed(SEED)\n",
    "torch.backends.cudnn.deterministic = True"
   ]
  },
  {
   "attachments": {},
   "cell_type": "markdown",
   "metadata": {},
   "source": [
    "## 1. Loading dataset"
   ]
  },
  {
   "cell_type": "code",
   "execution_count": 4,
   "metadata": {
    "scrolled": true
   },
   "outputs": [
    {
     "data": {
      "text/plain": [
       "DatasetDict({\n",
       "    train: Dataset({\n",
       "        features: ['text', 'user_id', 'subforum_id', 'num_contexts', 'label'],\n",
       "        num_rows: 10944\n",
       "    })\n",
       "})"
      ]
     },
     "execution_count": 4,
     "metadata": {},
     "output_type": "execute_result"
    }
   ],
   "source": [
    "import datasets\n",
    "\n",
    "###1. Load Dataset\n",
    "task_to_keys = {\n",
    "    \"HateSpeech\" : (\"text\", None),\n",
    "    \"cola\": (\"sentence\", None),\n",
    "    \"mnli\": (\"premise\", \"hypothesis\"),\n",
    "    \"mrpc\": (\"sentence1\", \"sentence2\"),\n",
    "    \"qnli\": (\"question\", \"sentence\"),\n",
    "    \"qqp\": (\"question1\", \"question2\"),\n",
    "    \"rte\": (\"sentence1\", \"sentence2\"),\n",
    "    \"sst2\": (\"sentence\", None),\n",
    "    \"stsb\": (\"sentence1\", \"sentence2\"),\n",
    "    \"wnli\": (\"sentence1\", \"sentence2\"),\n",
    "}\n",
    "\n",
    "task_name = \"HateSpeech\"\n",
    "raw_datasets = datasets.load_dataset(\"hate_speech18\")\n",
    "raw_datasets"
   ]
  },
  {
   "cell_type": "code",
   "execution_count": 5,
   "metadata": {},
   "outputs": [],
   "source": [
    "from datasets import DatasetDict\n",
    "\n",
    "train_val_split = raw_datasets['train'].train_test_split(test_size=0.1)\n",
    "test_val_split = train_val_split['test'].train_test_split(test_size=0.5)\n",
    "\n",
    "final_dataset  = DatasetDict({\n",
    "    'train': train_val_split['train'],\n",
    "    'validation': test_val_split['train'],\n",
    "    'test': test_val_split['test']\n",
    "})"
   ]
  },
  {
   "cell_type": "code",
   "execution_count": 6,
   "metadata": {},
   "outputs": [
    {
     "data": {
      "text/plain": [
       "DatasetDict({\n",
       "    train: Dataset({\n",
       "        features: ['text', 'user_id', 'subforum_id', 'num_contexts', 'label'],\n",
       "        num_rows: 9849\n",
       "    })\n",
       "    validation: Dataset({\n",
       "        features: ['text', 'user_id', 'subforum_id', 'num_contexts', 'label'],\n",
       "        num_rows: 547\n",
       "    })\n",
       "    test: Dataset({\n",
       "        features: ['text', 'user_id', 'subforum_id', 'num_contexts', 'label'],\n",
       "        num_rows: 548\n",
       "    })\n",
       "})"
      ]
     },
     "execution_count": 6,
     "metadata": {},
     "output_type": "execute_result"
    }
   ],
   "source": [
    "final_dataset"
   ]
  },
  {
   "cell_type": "code",
   "execution_count": 7,
   "metadata": {},
   "outputs": [
    {
     "data": {
      "text/plain": [
       "{'noHate': 0, 'hate': 1, 'idk/skip': 2, 'relation': 3}"
      ]
     },
     "execution_count": 7,
     "metadata": {},
     "output_type": "execute_result"
    }
   ],
   "source": [
    "label_list = final_dataset['train'].features['label'].names\n",
    "label2id = {v: i for i, v in enumerate(label_list)}\n",
    "label2id"
   ]
  },
  {
   "cell_type": "code",
   "execution_count": 8,
   "metadata": {},
   "outputs": [
    {
     "data": {
      "text/plain": [
       "{0: 'noHate', 1: 'hate', 2: 'idk/skip', 3: 'relation'}"
      ]
     },
     "execution_count": 8,
     "metadata": {},
     "output_type": "execute_result"
    }
   ],
   "source": [
    "id2label = {i: v for v, i in label2id.items()}\n",
    "id2label"
   ]
  },
  {
   "attachments": {},
   "cell_type": "markdown",
   "metadata": {},
   "source": [
    "## 2. Model & Tokenization"
   ]
  },
  {
   "cell_type": "code",
   "execution_count": 9,
   "metadata": {},
   "outputs": [
    {
     "data": {
      "text/plain": [
       "4"
      ]
     },
     "execution_count": 9,
     "metadata": {},
     "output_type": "execute_result"
    }
   ],
   "source": [
    "import numpy as np \n",
    "num_labels = np.unique(final_dataset['train']['label']).size\n",
    "num_labels"
   ]
  },
  {
   "cell_type": "code",
   "execution_count": 10,
   "metadata": {},
   "outputs": [
    {
     "name": "stderr",
     "output_type": "stream",
     "text": [
      "/home/jupyter-st124952/.local/lib/python3.12/site-packages/huggingface_hub/file_download.py:797: FutureWarning: `resume_download` is deprecated and will be removed in version 1.0.0. Downloads always resume when possible. If you want to force a new download, use `force_download=True`.\n",
      "  warnings.warn(\n",
      "Some weights of BertForSequenceClassification were not initialized from the model checkpoint at bert-base-uncased and are newly initialized: ['classifier.bias', 'classifier.weight']\n",
      "You should probably TRAIN this model on a down-stream task to be able to use it for predictions and inference.\n"
     ]
    },
    {
     "data": {
      "text/plain": [
       "BertForSequenceClassification(\n",
       "  (bert): BertModel(\n",
       "    (embeddings): BertEmbeddings(\n",
       "      (word_embeddings): Embedding(30522, 768, padding_idx=0)\n",
       "      (position_embeddings): Embedding(512, 768)\n",
       "      (token_type_embeddings): Embedding(2, 768)\n",
       "      (LayerNorm): LayerNorm((768,), eps=1e-12, elementwise_affine=True)\n",
       "      (dropout): Dropout(p=0.1, inplace=False)\n",
       "    )\n",
       "    (encoder): BertEncoder(\n",
       "      (layer): ModuleList(\n",
       "        (0-11): 12 x BertLayer(\n",
       "          (attention): BertAttention(\n",
       "            (self): BertSelfAttention(\n",
       "              (query): Linear(in_features=768, out_features=768, bias=True)\n",
       "              (key): Linear(in_features=768, out_features=768, bias=True)\n",
       "              (value): Linear(in_features=768, out_features=768, bias=True)\n",
       "              (dropout): Dropout(p=0.1, inplace=False)\n",
       "            )\n",
       "            (output): BertSelfOutput(\n",
       "              (dense): Linear(in_features=768, out_features=768, bias=True)\n",
       "              (LayerNorm): LayerNorm((768,), eps=1e-12, elementwise_affine=True)\n",
       "              (dropout): Dropout(p=0.1, inplace=False)\n",
       "            )\n",
       "          )\n",
       "          (intermediate): BertIntermediate(\n",
       "            (dense): Linear(in_features=768, out_features=3072, bias=True)\n",
       "            (intermediate_act_fn): GELUActivation()\n",
       "          )\n",
       "          (output): BertOutput(\n",
       "            (dense): Linear(in_features=3072, out_features=768, bias=True)\n",
       "            (LayerNorm): LayerNorm((768,), eps=1e-12, elementwise_affine=True)\n",
       "            (dropout): Dropout(p=0.1, inplace=False)\n",
       "          )\n",
       "        )\n",
       "      )\n",
       "    )\n",
       "    (pooler): BertPooler(\n",
       "      (dense): Linear(in_features=768, out_features=768, bias=True)\n",
       "      (activation): Tanh()\n",
       "    )\n",
       "  )\n",
       "  (dropout): Dropout(p=0.1, inplace=False)\n",
       "  (classifier): Linear(in_features=768, out_features=4, bias=True)\n",
       ")"
      ]
     },
     "execution_count": 10,
     "metadata": {},
     "output_type": "execute_result"
    }
   ],
   "source": [
    "from transformers import AutoModelForSequenceClassification\n",
    "from transformers import AutoTokenizer\n",
    "\n",
    "teacher_id = \"bert-base-uncased\"\n",
    "tokenizer = AutoTokenizer.from_pretrained(teacher_id)\n",
    "\n",
    "teacher_model = AutoModelForSequenceClassification.from_pretrained(\n",
    "    teacher_id, \n",
    "    num_labels = num_labels,\n",
    "    id2label = id2label,\n",
    "    label2id = label2id,\n",
    ")\n",
    "\n",
    "teacher_model"
   ]
  },
  {
   "attachments": {},
   "cell_type": "markdown",
   "metadata": {},
   "source": [
    "## 3. Preprocessing "
   ]
  },
  {
   "cell_type": "code",
   "execution_count": 11,
   "metadata": {},
   "outputs": [],
   "source": [
    "def tokenize_function(examples):\n",
    "    sentence_key = 'text'\n",
    "    result = tokenizer(examples[sentence_key], padding=\"max_length\", truncation=True, max_length=128)\n",
    "    return result"
   ]
  },
  {
   "cell_type": "code",
   "execution_count": 12,
   "metadata": {},
   "outputs": [
    {
     "data": {
      "application/vnd.jupyter.widget-view+json": {
       "model_id": "92746553808e4d85aef0db021135aa9c",
       "version_major": 2,
       "version_minor": 0
      },
      "text/plain": [
       "Map:   0%|          | 0/9849 [00:00<?, ? examples/s]"
      ]
     },
     "metadata": {},
     "output_type": "display_data"
    },
    {
     "data": {
      "application/vnd.jupyter.widget-view+json": {
       "model_id": "3ee04830164a43579881eb91b99ed71a",
       "version_major": 2,
       "version_minor": 0
      },
      "text/plain": [
       "Map:   0%|          | 0/547 [00:00<?, ? examples/s]"
      ]
     },
     "metadata": {},
     "output_type": "display_data"
    },
    {
     "data": {
      "application/vnd.jupyter.widget-view+json": {
       "model_id": "9958f2614a3d47b09b3aa0713b06594a",
       "version_major": 2,
       "version_minor": 0
      },
      "text/plain": [
       "Map:   0%|          | 0/548 [00:00<?, ? examples/s]"
      ]
     },
     "metadata": {},
     "output_type": "display_data"
    },
    {
     "data": {
      "text/plain": [
       "DatasetDict({\n",
       "    train: Dataset({\n",
       "        features: ['text', 'user_id', 'subforum_id', 'num_contexts', 'label', 'input_ids', 'token_type_ids', 'attention_mask'],\n",
       "        num_rows: 9849\n",
       "    })\n",
       "    validation: Dataset({\n",
       "        features: ['text', 'user_id', 'subforum_id', 'num_contexts', 'label', 'input_ids', 'token_type_ids', 'attention_mask'],\n",
       "        num_rows: 547\n",
       "    })\n",
       "    test: Dataset({\n",
       "        features: ['text', 'user_id', 'subforum_id', 'num_contexts', 'label', 'input_ids', 'token_type_ids', 'attention_mask'],\n",
       "        num_rows: 548\n",
       "    })\n",
       "})"
      ]
     },
     "execution_count": 12,
     "metadata": {},
     "output_type": "execute_result"
    }
   ],
   "source": [
    "tokenized_datasets = final_dataset.map(tokenize_function, batched=True)\n",
    "tokenized_datasets"
   ]
  },
  {
   "cell_type": "code",
   "execution_count": 13,
   "metadata": {},
   "outputs": [
    {
     "data": {
      "text/plain": [
       "['text', 'label', 'input_ids', 'token_type_ids', 'attention_mask']"
      ]
     },
     "execution_count": 13,
     "metadata": {},
     "output_type": "execute_result"
    }
   ],
   "source": [
    "column_dataset = ['text', 'label', 'input_ids', 'token_type_ids', 'attention_mask']\n",
    "column_dataset "
   ]
  },
  {
   "cell_type": "code",
   "execution_count": 14,
   "metadata": {},
   "outputs": [],
   "source": [
    "tokenized_datasets = tokenized_datasets.remove_columns([col for col in tokenized_datasets['train'].column_names if col not in column_dataset])\n",
    "\n",
    "tokenized_datasets = tokenized_datasets.rename_column(\"label\", \"labels\")\n",
    "\n",
    "tokenized_datasets.set_format(type='torch', columns=['labels', 'input_ids', 'token_type_ids', 'attention_mask'])"
   ]
  },
  {
   "cell_type": "code",
   "execution_count": 15,
   "metadata": {},
   "outputs": [
    {
     "data": {
      "text/plain": [
       "tensor([ 101, 3398, 1010, 2672, 2065, 2017, 2024, 3644, 2027, 2074, 4010, 2039,\n",
       "        1996, 2214, 2769, 8021, 2811, 2043, 2027, 2453, 2514, 2066, 2027, 2024,\n",
       "        2893, 2659, 1012,  102,    0,    0,    0,    0,    0,    0,    0,    0,\n",
       "           0,    0,    0,    0,    0,    0,    0,    0,    0,    0,    0,    0,\n",
       "           0,    0,    0,    0,    0,    0,    0,    0,    0,    0,    0,    0,\n",
       "           0,    0,    0,    0,    0,    0,    0,    0,    0,    0,    0,    0,\n",
       "           0,    0,    0,    0,    0,    0,    0,    0,    0,    0,    0,    0,\n",
       "           0,    0,    0,    0,    0,    0,    0,    0,    0,    0,    0,    0,\n",
       "           0,    0,    0,    0,    0,    0,    0,    0,    0,    0,    0,    0,\n",
       "           0,    0,    0,    0,    0,    0,    0,    0,    0,    0,    0,    0,\n",
       "           0,    0,    0,    0,    0,    0,    0,    0])"
      ]
     },
     "execution_count": 15,
     "metadata": {},
     "output_type": "execute_result"
    }
   ],
   "source": [
    "tokenized_datasets['train'][0]['input_ids']"
   ]
  },
  {
   "cell_type": "code",
   "execution_count": 16,
   "metadata": {},
   "outputs": [
    {
     "data": {
      "text/plain": [
       "'[CLS] yeah, maybe if you are jewish they just warm up the old money printing press when they might feel like they are getting low. [SEP] [PAD] [PAD] [PAD] [PAD] [PAD] [PAD] [PAD] [PAD] [PAD] [PAD] [PAD] [PAD] [PAD] [PAD] [PAD] [PAD] [PAD] [PAD] [PAD] [PAD] [PAD] [PAD] [PAD] [PAD] [PAD] [PAD] [PAD] [PAD] [PAD] [PAD] [PAD] [PAD] [PAD] [PAD] [PAD] [PAD] [PAD] [PAD] [PAD] [PAD] [PAD] [PAD] [PAD] [PAD] [PAD] [PAD] [PAD] [PAD] [PAD] [PAD] [PAD] [PAD] [PAD] [PAD] [PAD] [PAD] [PAD] [PAD] [PAD] [PAD] [PAD] [PAD] [PAD] [PAD] [PAD] [PAD] [PAD] [PAD] [PAD] [PAD] [PAD] [PAD] [PAD] [PAD] [PAD] [PAD] [PAD] [PAD] [PAD] [PAD] [PAD] [PAD] [PAD] [PAD] [PAD] [PAD] [PAD] [PAD] [PAD] [PAD] [PAD] [PAD] [PAD] [PAD] [PAD] [PAD] [PAD] [PAD] [PAD] [PAD]'"
      ]
     },
     "execution_count": 16,
     "metadata": {},
     "output_type": "execute_result"
    }
   ],
   "source": [
    "tokenizer.decode(tokenized_datasets['train'][0]['input_ids'])"
   ]
  },
  {
   "cell_type": "code",
   "execution_count": 17,
   "metadata": {},
   "outputs": [
    {
     "data": {
      "text/plain": [
       "('tokenizer/tokenizer_config.json',\n",
       " 'tokenizer/special_tokens_map.json',\n",
       " 'tokenizer/vocab.txt',\n",
       " 'tokenizer/added_tokens.json',\n",
       " 'tokenizer/tokenizer.json')"
      ]
     },
     "execution_count": 17,
     "metadata": {},
     "output_type": "execute_result"
    }
   ],
   "source": [
    "tokenizer.save_pretrained(\"tokenizer\")"
   ]
  },
  {
   "attachments": {},
   "cell_type": "markdown",
   "metadata": {},
   "source": [
    "## 4. Preparing the dataloader"
   ]
  },
  {
   "cell_type": "code",
   "execution_count": 18,
   "metadata": {},
   "outputs": [],
   "source": [
    "from transformers import DataCollatorWithPadding\n",
    "data_collator = DataCollatorWithPadding(tokenizer=tokenizer)\n",
    "#Data collator that will dynamically pad the inputs received."
   ]
  },
  {
   "cell_type": "code",
   "execution_count": 19,
   "metadata": {},
   "outputs": [],
   "source": [
    "small_train_dataset = tokenized_datasets[\"train\"].shuffle(seed=1150).select(range(9000))\n",
    "small_eval_dataset = tokenized_datasets[\"validation\"].shuffle(seed=1150).select(range(500))\n",
    "small_test_dataset = tokenized_datasets[\"test\"].shuffle(seed=1150).select(range(500))"
   ]
  },
  {
   "cell_type": "code",
   "execution_count": 20,
   "metadata": {},
   "outputs": [],
   "source": [
    "from torch.utils.data import DataLoader\n",
    "train_dataloader = DataLoader(\n",
    "    small_train_dataset, shuffle=True, batch_size=32, collate_fn=data_collator)\n",
    "test_dataloader = DataLoader(\n",
    "    small_test_dataset, batch_size=32, collate_fn=data_collator)\n",
    "eval_dataloader = DataLoader(\n",
    "    small_eval_dataset, batch_size=32, collate_fn=data_collator)"
   ]
  },
  {
   "cell_type": "code",
   "execution_count": 21,
   "metadata": {},
   "outputs": [
    {
     "data": {
      "text/plain": [
       "(torch.Size([32]), torch.Size([32, 128]), torch.Size([32, 128]))"
      ]
     },
     "execution_count": 21,
     "metadata": {},
     "output_type": "execute_result"
    }
   ],
   "source": [
    "for batch in train_dataloader:\n",
    "    break\n",
    "    \n",
    "batch['labels'].shape, batch['input_ids'].shape, batch['attention_mask'].shape"
   ]
  },
  {
   "attachments": {},
   "cell_type": "markdown",
   "metadata": {},
   "source": [
    "## 5. Design the model and losses"
   ]
  },
  {
   "attachments": {},
   "cell_type": "markdown",
   "metadata": {},
   "source": [
    "### 5.1 Teacher Model & Student Model\n",
    "\n",
    "####  Architecture \n",
    "In the present work, the student - DistilBERT - has the same general architecture as BERT. \n",
    "- The `token-type embeddings` and the `pooler` are removed while `the number of layers` is reduced by a factor of 2. \n",
    "- Most of the operations used in the Transformer architecture `linear layer` and `layer normalisation` are highly optimized in modern linear algebra frameworks.\n",
    "- our investigations showed that variations on the last dimension of the tensor (hidden size dimension) have a smaller impact on computation efficiency (for a fixed parameters budget) than variations on other factors like the number of layers. \n",
    "- Thus we focus on reducing the number of layers.\n",
    "\n",
    "#### Initialize Student Model\n",
    "- To initialize a new model from an existing one, we need to access the weights of the old model (the teacher). \n",
    "- In order to get the weights, we first have to know how to access them. We’ll use BERT as our teacher model."
   ]
  },
  {
   "cell_type": "code",
   "execution_count": 22,
   "metadata": {},
   "outputs": [
    {
     "data": {
      "text/plain": [
       "BertConfig {\n",
       "  \"_name_or_path\": \"bert-base-uncased\",\n",
       "  \"architectures\": [\n",
       "    \"BertForMaskedLM\"\n",
       "  ],\n",
       "  \"attention_probs_dropout_prob\": 0.1,\n",
       "  \"classifier_dropout\": null,\n",
       "  \"gradient_checkpointing\": false,\n",
       "  \"hidden_act\": \"gelu\",\n",
       "  \"hidden_dropout_prob\": 0.1,\n",
       "  \"hidden_size\": 768,\n",
       "  \"id2label\": {\n",
       "    \"0\": \"noHate\",\n",
       "    \"1\": \"hate\",\n",
       "    \"2\": \"idk/skip\",\n",
       "    \"3\": \"relation\"\n",
       "  },\n",
       "  \"initializer_range\": 0.02,\n",
       "  \"intermediate_size\": 3072,\n",
       "  \"label2id\": {\n",
       "    \"hate\": 1,\n",
       "    \"idk/skip\": 2,\n",
       "    \"noHate\": 0,\n",
       "    \"relation\": 3\n",
       "  },\n",
       "  \"layer_norm_eps\": 1e-12,\n",
       "  \"max_position_embeddings\": 512,\n",
       "  \"model_type\": \"bert\",\n",
       "  \"num_attention_heads\": 12,\n",
       "  \"num_hidden_layers\": 12,\n",
       "  \"pad_token_id\": 0,\n",
       "  \"position_embedding_type\": \"absolute\",\n",
       "  \"transformers_version\": \"4.38.2\",\n",
       "  \"type_vocab_size\": 2,\n",
       "  \"use_cache\": true,\n",
       "  \"vocab_size\": 30522\n",
       "}"
      ]
     },
     "execution_count": 22,
     "metadata": {},
     "output_type": "execute_result"
    }
   ],
   "source": [
    "teacher_model.config"
   ]
  },
  {
   "attachments": {},
   "cell_type": "markdown",
   "metadata": {},
   "source": [
    "#### \n",
    "- The student model has the same configuration, except the number of layers is reduced by a factor of 2\n",
    "- The student layers are initilized by copying one out of two layers of the teacher, starting with layer 0.\n",
    "- The head of the teacher is also copied."
   ]
  },
  {
   "cell_type": "code",
   "execution_count": 23,
   "metadata": {},
   "outputs": [],
   "source": [
    "from transformers.models.bert.modeling_bert import BertPreTrainedModel, BertConfig\n",
    "# Get teacher configuration as a dictionnary\n",
    "configuration = teacher_model.config.to_dict()\n",
    "# configuration"
   ]
  },
  {
   "cell_type": "code",
   "execution_count": 24,
   "metadata": {},
   "outputs": [],
   "source": [
    "# Half the number of hidden layer\n",
    "configuration['num_hidden_layers'] //= 2\n",
    "# Convert the dictionnary to the student configuration\n",
    "configuration = BertConfig.from_dict(configuration)"
   ]
  },
  {
   "cell_type": "code",
   "execution_count": 25,
   "metadata": {},
   "outputs": [
    {
     "data": {
      "text/plain": [
       "BertConfig {\n",
       "  \"_name_or_path\": \"bert-base-uncased\",\n",
       "  \"architectures\": [\n",
       "    \"BertForMaskedLM\"\n",
       "  ],\n",
       "  \"attention_probs_dropout_prob\": 0.1,\n",
       "  \"classifier_dropout\": null,\n",
       "  \"gradient_checkpointing\": false,\n",
       "  \"hidden_act\": \"gelu\",\n",
       "  \"hidden_dropout_prob\": 0.1,\n",
       "  \"hidden_size\": 768,\n",
       "  \"id2label\": {\n",
       "    \"0\": \"noHate\",\n",
       "    \"1\": \"hate\",\n",
       "    \"2\": \"idk/skip\",\n",
       "    \"3\": \"relation\"\n",
       "  },\n",
       "  \"initializer_range\": 0.02,\n",
       "  \"intermediate_size\": 3072,\n",
       "  \"label2id\": {\n",
       "    \"hate\": 1,\n",
       "    \"idk/skip\": 2,\n",
       "    \"noHate\": 0,\n",
       "    \"relation\": 3\n",
       "  },\n",
       "  \"layer_norm_eps\": 1e-12,\n",
       "  \"max_position_embeddings\": 512,\n",
       "  \"model_type\": \"bert\",\n",
       "  \"num_attention_heads\": 12,\n",
       "  \"num_hidden_layers\": 6,\n",
       "  \"pad_token_id\": 0,\n",
       "  \"position_embedding_type\": \"absolute\",\n",
       "  \"transformers_version\": \"4.38.2\",\n",
       "  \"type_vocab_size\": 2,\n",
       "  \"use_cache\": true,\n",
       "  \"vocab_size\": 30522\n",
       "}"
      ]
     },
     "execution_count": 25,
     "metadata": {},
     "output_type": "execute_result"
    }
   ],
   "source": [
    "configuration"
   ]
  },
  {
   "cell_type": "code",
   "execution_count": 26,
   "metadata": {
    "scrolled": true
   },
   "outputs": [
    {
     "data": {
      "text/plain": [
       "BertForSequenceClassification(\n",
       "  (bert): BertModel(\n",
       "    (embeddings): BertEmbeddings(\n",
       "      (word_embeddings): Embedding(30522, 768, padding_idx=0)\n",
       "      (position_embeddings): Embedding(512, 768)\n",
       "      (token_type_embeddings): Embedding(2, 768)\n",
       "      (LayerNorm): LayerNorm((768,), eps=1e-12, elementwise_affine=True)\n",
       "      (dropout): Dropout(p=0.1, inplace=False)\n",
       "    )\n",
       "    (encoder): BertEncoder(\n",
       "      (layer): ModuleList(\n",
       "        (0-5): 6 x BertLayer(\n",
       "          (attention): BertAttention(\n",
       "            (self): BertSelfAttention(\n",
       "              (query): Linear(in_features=768, out_features=768, bias=True)\n",
       "              (key): Linear(in_features=768, out_features=768, bias=True)\n",
       "              (value): Linear(in_features=768, out_features=768, bias=True)\n",
       "              (dropout): Dropout(p=0.1, inplace=False)\n",
       "            )\n",
       "            (output): BertSelfOutput(\n",
       "              (dense): Linear(in_features=768, out_features=768, bias=True)\n",
       "              (LayerNorm): LayerNorm((768,), eps=1e-12, elementwise_affine=True)\n",
       "              (dropout): Dropout(p=0.1, inplace=False)\n",
       "            )\n",
       "          )\n",
       "          (intermediate): BertIntermediate(\n",
       "            (dense): Linear(in_features=768, out_features=3072, bias=True)\n",
       "            (intermediate_act_fn): GELUActivation()\n",
       "          )\n",
       "          (output): BertOutput(\n",
       "            (dense): Linear(in_features=3072, out_features=768, bias=True)\n",
       "            (LayerNorm): LayerNorm((768,), eps=1e-12, elementwise_affine=True)\n",
       "            (dropout): Dropout(p=0.1, inplace=False)\n",
       "          )\n",
       "        )\n",
       "      )\n",
       "    )\n",
       "    (pooler): BertPooler(\n",
       "      (dense): Linear(in_features=768, out_features=768, bias=True)\n",
       "      (activation): Tanh()\n",
       "    )\n",
       "  )\n",
       "  (dropout): Dropout(p=0.1, inplace=False)\n",
       "  (classifier): Linear(in_features=768, out_features=4, bias=True)\n",
       ")"
      ]
     },
     "execution_count": 26,
     "metadata": {},
     "output_type": "execute_result"
    }
   ],
   "source": [
    "# Create uninitialized student model\n",
    "model = type(teacher_model)(configuration)\n",
    "model"
   ]
  },
  {
   "attachments": {},
   "cell_type": "markdown",
   "metadata": {},
   "source": [
    "- Recursively copies the weights of the (teacher) to the (student).\n",
    "- This function is meant to be first called on a BertFor... model, but is then called on every children of that model recursively.\n",
    "- The only part that's not fully copied is the encoder, of which only half is copied."
   ]
  },
  {
   "cell_type": "code",
   "execution_count": 27,
   "metadata": {},
   "outputs": [],
   "source": [
    "from transformers.models.bert.modeling_bert import BertEncoder, BertModel\n",
    "from torch.nn import Module\n",
    "\n",
    "def distill_bert_weights(\n",
    "    teacher: Module,\n",
    "    student: Module,\n",
    "    layer: str = 'odd'\n",
    ") -> None:\n",
    "    \"\"\"\n",
    "    Recursively copies the weights of the teacher to the student.\n",
    "    This function is meant to be first called on a BertFor... model, but is then called on every child module recursively.\n",
    "    For the encoder, only half of the teacher's layers are copied, based on the 'layer' parameter:\n",
    "    - 'odd': Copies layers {1, 3, 5, 7, 9, 11} (indices 0, 2, 4, 6, 8, 10).\n",
    "    - 'even': Copies layers {2, 4, 6, 8, 10, 12} (indices 1, 3, 5, 7, 9, 11).\n",
    "    \"\"\"\n",
    "    # If the part is an entire BERT model or a BERTFor..., unpack and iterate\n",
    "    if isinstance(teacher, BertModel) or type(teacher).__name__.startswith('BertFor'):\n",
    "        for teacher_part, student_part in zip(teacher.children(), student.children()):\n",
    "            distill_bert_weights(teacher_part, student_part, layer=layer)\n",
    "    # Else if the part is an encoder, copy the specified layers\n",
    "    elif isinstance(teacher, BertEncoder):\n",
    "        teacher_encoding_layers = [layer for layer in next(teacher.children())]  # 12 layers\n",
    "        student_encoding_layers = [layer for layer in next(student.children())]  # 6 layers\n",
    "        for i in range(len(student_encoding_layers)):\n",
    "            if layer == 'odd':\n",
    "                teacher_index = 2 * i  # Indices: 2, 4, 6, 8, 10, 12\n",
    "            elif layer == 'even':\n",
    "                teacher_index = 2 * i + 1  # Indices: 1, 3, 5, 7, 9, 11\n",
    "            else:\n",
    "                raise ValueError(\"Invalid layer parameter. Must be 'odd' or 'even'.\")\n",
    "            student_encoding_layers[i].load_state_dict(teacher_encoding_layers[teacher_index].state_dict())\n",
    "    # Else the part is a head or something else, copy the state_dict\n",
    "    else:\n",
    "        student.load_state_dict(teacher.state_dict())\n",
    "    return student"
   ]
  },
  {
   "cell_type": "code",
   "execution_count": 28,
   "metadata": {},
   "outputs": [],
   "source": [
    "odd_model = distill_bert_weights(teacher_model, student=model, layer='odd')\n",
    "even_model =  distill_bert_weights(teacher_model, student=model, layer='even')"
   ]
  },
  {
   "cell_type": "code",
   "execution_count": 29,
   "metadata": {},
   "outputs": [
    {
     "name": "stdout",
     "output_type": "stream",
     "text": [
      "Teacher parameters : 109485316\n",
      "Student parameters : 66958084\n"
     ]
    }
   ],
   "source": [
    "def count_parameters(model):\n",
    "    return sum(p.numel() for p in model.parameters() if p.requires_grad)\n",
    "\n",
    "print('Teacher parameters :', count_parameters(teacher_model))\n",
    "print('Student parameters :', count_parameters(odd_model))"
   ]
  },
  {
   "cell_type": "code",
   "execution_count": 30,
   "metadata": {},
   "outputs": [
    {
     "name": "stdout",
     "output_type": "stream",
     "text": [
      "Teacher parameters : 109485316\n",
      "Student parameters : 66958084\n"
     ]
    }
   ],
   "source": [
    "def count_parameters(model):\n",
    "    return sum(p.numel() for p in model.parameters() if p.requires_grad)\n",
    "\n",
    "print('Teacher parameters :', count_parameters(teacher_model))\n",
    "print('Student parameters :', count_parameters(even_model))"
   ]
  },
  {
   "cell_type": "code",
   "execution_count": 31,
   "metadata": {},
   "outputs": [
    {
     "data": {
      "text/plain": [
       "61.157136359728824"
      ]
     },
     "execution_count": 31,
     "metadata": {},
     "output_type": "execute_result"
    }
   ],
   "source": [
    "count_parameters(odd_model)/count_parameters(teacher_model) * 100"
   ]
  },
  {
   "cell_type": "code",
   "execution_count": 32,
   "metadata": {},
   "outputs": [
    {
     "data": {
      "text/plain": [
       "61.157136359728824"
      ]
     },
     "execution_count": 32,
     "metadata": {},
     "output_type": "execute_result"
    }
   ],
   "source": [
    "count_parameters(even_model)/count_parameters(teacher_model) * 100"
   ]
  },
  {
   "cell_type": "code",
   "execution_count": 33,
   "metadata": {},
   "outputs": [],
   "source": [
    "#It has 40% less parameters than bert-base-uncased"
   ]
  },
  {
   "attachments": {},
   "cell_type": "markdown",
   "metadata": {},
   "source": [
    "### 5.2 Loss function"
   ]
  },
  {
   "attachments": {},
   "cell_type": "markdown",
   "metadata": {},
   "source": [
    "#### Softmax\n",
    "\n",
    "$$\n",
    "P_i(\\mathbf{z}_i, T) = \\frac{\\exp(\\mathbf{z}_i / T)}{\\sum_{q=0}^k \\exp(\\mathbf{z}_q / T)}\n",
    "$$\n"
   ]
  },
  {
   "attachments": {},
   "cell_type": "markdown",
   "metadata": {},
   "source": [
    "#### Knowledge Distillation\n",
    "\n",
    "#### CE Loss\n",
    "$$\\mathcal{L}_\\text{CE} = -\\sum^N_{j=0}\\sum_{i=0}^k {y}_i^{(j)}\\log(P_i({v}_i^{(j)}, 1))$$\n",
    "\n",
    "#### KL Loss\n",
    "$$\\mathcal{L}_\\text{KD} = -\\sum^N_{j=0}\\sum_{i=0}^k P_i({z}_i^{(j)}, T) \\log (P_i({v}_i^{(j)}, T))$$\n",
    "\n",
    "#### Cosine Embedding Loss\n",
    "$$\\mathcal{L}_{\\text{cosine}}(x_1, x_2, y) = \\frac{1}{N} \\sum_{i=1}^{N} \\left(1 - y_i \\cdot \\cos(\\theta_i)\\right)$$\n",
    "\n",
    "<!-- $$\\mathcal{L} = \\lambda \\mathcal{L}_\\text{KD} + (1-\\lambda)\\mathcal{L}_\\text{CE}$$\n",
    " -->\n",
    "\n",
    "#### Total Loss\n",
    "$$\\mathcal{L} = \\mathcal{L}_\\text{KD} + \\mathcal{L}_\\text{CE} + \\mathcal{L}_{\\text{cosine}}$$"
   ]
  },
  {
   "cell_type": "code",
   "execution_count": 34,
   "metadata": {},
   "outputs": [],
   "source": [
    "import torch.nn.functional as F\n",
    "\n",
    "class DistillKL(nn.Module):\n",
    "    \"\"\"\n",
    "    Distilling the Knowledge in a Neural Network\n",
    "    Compute the knowledge-distillation (KD) loss given outputs, labels.\n",
    "    \"Hyperparameters\": temperature and alpha\n",
    "\n",
    "    NOTE: the KL Divergence for PyTorch comparing the softmaxs of teacher\n",
    "    and student expects the input tensor to be log probabilities! \n",
    "    \"\"\"\n",
    "\n",
    "    def __init__(self):\n",
    "        super(DistillKL, self).__init__()\n",
    "\n",
    "    def forward(self, output_student, output_teacher, temperature=1):\n",
    "        '''\n",
    "        Note: the output_student and output_teacher are logits \n",
    "        '''\n",
    "        T = temperature #.cuda()\n",
    "        \n",
    "        KD_loss = nn.KLDivLoss(reduction='batchmean')(\n",
    "            F.log_softmax(output_student/T, dim=-1),\n",
    "            F.softmax(output_teacher/T, dim=-1)\n",
    "        ) * T * T\n",
    "        \n",
    "        return KD_loss"
   ]
  },
  {
   "cell_type": "code",
   "execution_count": 35,
   "metadata": {},
   "outputs": [],
   "source": [
    "criterion_div = DistillKL()\n",
    "criterion_cos = nn.CosineEmbeddingLoss()"
   ]
  },
  {
   "attachments": {},
   "cell_type": "markdown",
   "metadata": {},
   "source": [
    "## 6. Optimizer"
   ]
  },
  {
   "cell_type": "code",
   "execution_count": 36,
   "metadata": {},
   "outputs": [],
   "source": [
    "import torch.optim as optim\n",
    "import torch.nn as nn\n",
    "\n",
    "lr = 5e-5\n",
    "\n",
    "#training hyperparameters\n",
    "optimizer_odd = optim.Adam(params=odd_model.parameters(), lr=lr)\n",
    "optimizer_even = optim.Adam(params=even_model.parameters(), lr=lr)"
   ]
  },
  {
   "cell_type": "code",
   "execution_count": 37,
   "metadata": {},
   "outputs": [
    {
     "data": {
      "text/plain": [
       "BertForSequenceClassification(\n",
       "  (bert): BertModel(\n",
       "    (embeddings): BertEmbeddings(\n",
       "      (word_embeddings): Embedding(30522, 768, padding_idx=0)\n",
       "      (position_embeddings): Embedding(512, 768)\n",
       "      (token_type_embeddings): Embedding(2, 768)\n",
       "      (LayerNorm): LayerNorm((768,), eps=1e-12, elementwise_affine=True)\n",
       "      (dropout): Dropout(p=0.1, inplace=False)\n",
       "    )\n",
       "    (encoder): BertEncoder(\n",
       "      (layer): ModuleList(\n",
       "        (0-11): 12 x BertLayer(\n",
       "          (attention): BertAttention(\n",
       "            (self): BertSelfAttention(\n",
       "              (query): Linear(in_features=768, out_features=768, bias=True)\n",
       "              (key): Linear(in_features=768, out_features=768, bias=True)\n",
       "              (value): Linear(in_features=768, out_features=768, bias=True)\n",
       "              (dropout): Dropout(p=0.1, inplace=False)\n",
       "            )\n",
       "            (output): BertSelfOutput(\n",
       "              (dense): Linear(in_features=768, out_features=768, bias=True)\n",
       "              (LayerNorm): LayerNorm((768,), eps=1e-12, elementwise_affine=True)\n",
       "              (dropout): Dropout(p=0.1, inplace=False)\n",
       "            )\n",
       "          )\n",
       "          (intermediate): BertIntermediate(\n",
       "            (dense): Linear(in_features=768, out_features=3072, bias=True)\n",
       "            (intermediate_act_fn): GELUActivation()\n",
       "          )\n",
       "          (output): BertOutput(\n",
       "            (dense): Linear(in_features=3072, out_features=768, bias=True)\n",
       "            (LayerNorm): LayerNorm((768,), eps=1e-12, elementwise_affine=True)\n",
       "            (dropout): Dropout(p=0.1, inplace=False)\n",
       "          )\n",
       "        )\n",
       "      )\n",
       "    )\n",
       "    (pooler): BertPooler(\n",
       "      (dense): Linear(in_features=768, out_features=768, bias=True)\n",
       "      (activation): Tanh()\n",
       "    )\n",
       "  )\n",
       "  (dropout): Dropout(p=0.1, inplace=False)\n",
       "  (classifier): Linear(in_features=768, out_features=4, bias=True)\n",
       ")"
      ]
     },
     "execution_count": 37,
     "metadata": {},
     "output_type": "execute_result"
    }
   ],
   "source": [
    "odd_model.to(device)\n",
    "even_model.to(device)\n",
    "teacher_model.to(device)"
   ]
  },
  {
   "attachments": {},
   "cell_type": "markdown",
   "metadata": {},
   "source": [
    "## 7. Learning rate scheduler"
   ]
  },
  {
   "cell_type": "code",
   "execution_count": 38,
   "metadata": {},
   "outputs": [],
   "source": [
    "from transformers import get_scheduler\n",
    "num_epochs = 5\n",
    "num_update_steps_per_epoch = len(train_dataloader)\n",
    "num_training_steps = num_epochs * num_update_steps_per_epoch\n",
    "\n",
    "# Scheduler for odd_model\n",
    "lr_scheduler_odd = get_scheduler(\n",
    "    name=\"linear\",\n",
    "    optimizer=optimizer_odd,  # Optimizer for odd_model\n",
    "    num_warmup_steps=0,\n",
    "    num_training_steps=num_training_steps\n",
    ")\n",
    "\n",
    "# Scheduler for even_model\n",
    "lr_scheduler_even = get_scheduler(\n",
    "    name=\"linear\",\n",
    "    optimizer=optimizer_even,  # Optimizer for even_model\n",
    "    num_warmup_steps=0,\n",
    "    num_training_steps=num_training_steps\n",
    ")"
   ]
  },
  {
   "attachments": {},
   "cell_type": "markdown",
   "metadata": {},
   "source": [
    "## 8. Metric"
   ]
  },
  {
   "cell_type": "code",
   "execution_count": 39,
   "metadata": {},
   "outputs": [],
   "source": [
    "#!pip3 install evaluate"
   ]
  },
  {
   "cell_type": "code",
   "execution_count": 40,
   "metadata": {},
   "outputs": [],
   "source": [
    "import numpy as np\n",
    "import evaluate\n",
    "# Get the metric function\n",
    "if task_name is not None:\n",
    "    # metric = evaluate.load(\"glue\", task_name)\n",
    "    metric = evaluate.load(\"accuracy\")\n",
    "else:\n",
    "    metric = evaluate.load(\"accuracy\")"
   ]
  },
  {
   "attachments": {},
   "cell_type": "markdown",
   "metadata": {},
   "source": [
    "## 9. Train"
   ]
  },
  {
   "cell_type": "code",
   "execution_count": 55,
   "metadata": {
    "scrolled": true
   },
   "outputs": [],
   "source": [
    "import torch\n",
    "from tqdm.auto import tqdm\n",
    "import torch.nn.functional as F\n",
    "import numpy as np\n",
    "\n",
    "\n",
    "def train_distilled_model(student_model, optimizer, lr_scheduler, student_type=\"odd\"):\n",
    "    \"\"\"\n",
    "    Train a distilled BERT student model (odd or even layers) using knowledge distillation.\n",
    "    \n",
    "    Args:\n",
    "        student_model: The student model to train (odd or even layers)\n",
    "        optimizer: Optimizer for the student model\n",
    "        lr_scheduler: Learning rate scheduler\n",
    "        student_type: String identifier for the model (\"odd\" or \"even\")\n",
    "    \n",
    "    Returns:\n",
    "        dict: Training and evaluation metrics history\n",
    "    \"\"\"\n",
    "    print(f\"\\n this is a training model for {student_type} distilled model...\\n\")\n",
    "\n",
    "    progress_bar = tqdm(range(num_training_steps))\n",
    "    student_model.to(device)\n",
    "    teacher_model.to(device)\n",
    "\n",
    "    # Store loss and metric history\n",
    "    train_losses, train_cls, train_div, train_cos = [], [], [], []\n",
    "    eval_losses, eval_metrics_list = [], []\n",
    "    accuracies_per_epoch = []  # Track accuracy for each epoch\n",
    "\n",
    "    # Track average metrics across epochs\n",
    "    avg_metrics = {\"accuracy\": 0}\n",
    "\n",
    "    for epoch in range(num_epochs):\n",
    "        student_model.train()\n",
    "        teacher_model.eval()\n",
    "\n",
    "        total_loss, loss_cls_total, loss_div_total, loss_cos_total = 0, 0, 0, 0\n",
    "\n",
    "        for batch in train_dataloader:\n",
    "            batch = {k: v.to(device) for k, v in batch.items()}\n",
    "\n",
    "            outputs_student = student_model(**batch)\n",
    "            with torch.no_grad():\n",
    "                outputs_teacher = teacher_model(**batch)\n",
    "\n",
    "            # Losses\n",
    "            loss_cls = outputs_student.loss\n",
    "            temperature = 2.0\n",
    "            loss_div = criterion_div(\n",
    "                F.log_softmax(outputs_student.logits / temperature, dim=-1),\n",
    "                F.softmax(outputs_teacher.logits / temperature, dim=-1)\n",
    "            ) * (temperature ** 2)\n",
    "            loss_cos = criterion_cos(\n",
    "                outputs_teacher.logits,\n",
    "                outputs_student.logits,\n",
    "                torch.ones(outputs_teacher.logits.size(0)).to(device)\n",
    "            )\n",
    "\n",
    "            # Total loss (weighted average)\n",
    "            loss = (loss_cls + loss_div + loss_cos) / 3\n",
    "\n",
    "            # Backpropagation\n",
    "            loss.backward()\n",
    "            optimizer.step()\n",
    "            lr_scheduler.step()\n",
    "            optimizer.zero_grad()\n",
    "\n",
    "            # Accumulate losses\n",
    "            total_loss += loss.item()\n",
    "            loss_cls_total += loss_cls.item()\n",
    "            loss_div_total += loss_div.item()\n",
    "            loss_cos_total += loss_cos.item()\n",
    "\n",
    "            progress_bar.update(1)\n",
    "\n",
    "        # Store training losses\n",
    "        train_losses.append(total_loss / len(train_dataloader))\n",
    "        train_cls.append(loss_cls_total / len(train_dataloader))\n",
    "        train_div.append(loss_div_total / len(train_dataloader))\n",
    "        train_cos.append(loss_cos_total / len(train_dataloader))\n",
    "\n",
    "        # Evaluation\n",
    "        student_model.eval()\n",
    "        eval_loss, all_preds, all_labels = 0, [], []\n",
    "\n",
    "        for batch in eval_dataloader:\n",
    "            batch = {k: v.to(device) for k, v in batch.items()}\n",
    "            with torch.no_grad():\n",
    "                outputs = student_model(**batch)\n",
    "                loss_eval = outputs.loss\n",
    "                preds = outputs.logits.argmax(dim=-1)\n",
    "\n",
    "            eval_loss += loss_eval.item()\n",
    "            all_preds.extend(preds.cpu().numpy())\n",
    "            all_labels.extend(batch[\"labels\"].cpu().numpy())\n",
    "\n",
    "        # Compute metrics using the evaluate library\n",
    "        metric = evaluate.load(\"accuracy\")\n",
    "        metrics = metric.compute(predictions=all_preds, references=all_labels)\n",
    "        accuracies_per_epoch.append(metrics[\"accuracy\"])  # Store accuracy for each epoch\n",
    "\n",
    "        eval_losses.append(eval_loss / len(eval_dataloader))\n",
    "        eval_metrics_list.append(metrics)\n",
    "\n",
    "        # Logging\n",
    "        print(f\"\\n Epoch {epoch+1}/{num_epochs} — {student_type} distilled model\")\n",
    "        print(f\" Train Loss:     {train_losses[-1]:.4f}\")\n",
    "        print(f'  - Loss_cls: {train_cls[-1]:.4f}')\n",
    "        print(f'  - Loss_div: {train_div[-1]:.4f}')\n",
    "        print(f'  - Loss_cos: {train_cos[-1]:.4f}')\n",
    "        print(f\" Eval Loss:      {eval_losses[-1]:.4f}\")\n",
    "        print(f\" Eval Metrics:   Acc={metrics['accuracy']:.4f}\")\n",
    "\n",
    "    # Print average metrics\n",
    "    print(f\"\\n Average Metrics for {student_type} distilled model over {num_epochs} epochs:\")\n",
    "    print(f\"  Accuracy: {avg_metrics['accuracy']/num_epochs:.4f}\")\n",
    "\n",
    "    # Save the model\n",
    "    model_path = f\"./{student_type}_model.pt\"\n",
    "    torch.save(student_model.state_dict(), model_path)\n",
    "    print(f\"\\n{student_type.capitalize()} model saved to {model_path}\")\n",
    "\n",
    "    # Return results for plotting or further analysis\n",
    "    return {\n",
    "        \"train_losses\": train_losses,\n",
    "        \"train_cls\": train_cls,\n",
    "        \"train_div\": train_div,\n",
    "        \"train_cos\": train_cos,\n",
    "        \"eval_losses\": eval_losses,\n",
    "        \"metrics_per_epoch\": eval_metrics_list,\n",
    "        \"accuracies_per_epoch\": accuracies_per_epoch,  # Return accuracies for plotting\n",
    "        \"final_avg_metrics\": {\"accuracy\": avg_metrics[\"accuracy\"]/num_epochs}\n",
    "    }"
   ]
  },
  {
   "cell_type": "code",
   "execution_count": 42,
   "metadata": {},
   "outputs": [
    {
     "name": "stdout",
     "output_type": "stream",
     "text": [
      "\n",
      "---- ODD RESULTS ---\n",
      "\n",
      " this is a training model for odd distilled model...\n",
      "\n"
     ]
    },
    {
     "data": {
      "application/vnd.jupyter.widget-view+json": {
       "model_id": "419149c46f3f4bceaf02d70cc6dc7768",
       "version_major": 2,
       "version_minor": 0
      },
      "text/plain": [
       "  0%|          | 0/1410 [00:00<?, ?it/s]"
      ]
     },
     "metadata": {},
     "output_type": "display_data"
    },
    {
     "name": "stdout",
     "output_type": "stream",
     "text": [
      "\n",
      " Epoch 1/5 — odd distilled model\n",
      " Train Loss:     0.3527\n",
      "  - Loss_cls: 0.7411\n",
      "  - Loss_div: 0.1943\n",
      "  - Loss_cos: 0.1225\n",
      " Eval Loss:      0.6478\n",
      " Eval Metrics:   Acc=0.8920\n",
      "\n",
      " Epoch 2/5 — odd distilled model\n",
      " Train Loss:     0.3218\n",
      "  - Loss_cls: 0.6307\n",
      "  - Loss_div: 0.2349\n",
      "  - Loss_cos: 0.0999\n",
      " Eval Loss:      0.6060\n",
      " Eval Metrics:   Acc=0.8940\n",
      "\n",
      " Epoch 3/5 — odd distilled model\n",
      " Train Loss:     0.3063\n",
      "  - Loss_cls: 0.5701\n",
      "  - Loss_div: 0.2526\n",
      "  - Loss_cos: 0.0963\n",
      " Eval Loss:      0.6494\n",
      " Eval Metrics:   Acc=0.9040\n",
      "\n",
      " Epoch 4/5 — odd distilled model\n",
      " Train Loss:     0.2976\n",
      "  - Loss_cls: 0.5355\n",
      "  - Loss_div: 0.2631\n",
      "  - Loss_cos: 0.0943\n",
      " Eval Loss:      0.6056\n",
      " Eval Metrics:   Acc=0.9060\n",
      "\n",
      " Epoch 5/5 — odd distilled model\n",
      " Train Loss:     0.2942\n",
      "  - Loss_cls: 0.5222\n",
      "  - Loss_div: 0.2670\n",
      "  - Loss_cos: 0.0936\n",
      " Eval Loss:      0.6099\n",
      " Eval Metrics:   Acc=0.9020\n",
      "\n",
      " Average Metrics for odd distilled model over 5 epochs:\n",
      "  Accuracy: 0.8996\n",
      "\n",
      "Odd model saved to ./odd_model.pt\n",
      "\n",
      "---- EVEN RESULTS ---\n",
      "\n",
      " this is a training model for even distilled model...\n",
      "\n"
     ]
    },
    {
     "data": {
      "application/vnd.jupyter.widget-view+json": {
       "model_id": "2547d3ac951543f786b4affed712e0a5",
       "version_major": 2,
       "version_minor": 0
      },
      "text/plain": [
       "  0%|          | 0/1410 [00:00<?, ?it/s]"
      ]
     },
     "metadata": {},
     "output_type": "display_data"
    },
    {
     "name": "stdout",
     "output_type": "stream",
     "text": [
      "\n",
      " Epoch 1/5 — even distilled model\n",
      " Train Loss:     0.2967\n",
      "  - Loss_cls: 0.5307\n",
      "  - Loss_div: 0.2677\n",
      "  - Loss_cos: 0.0917\n",
      " Eval Loss:      0.6223\n",
      " Eval Metrics:   Acc=0.8900\n",
      "\n",
      " Epoch 2/5 — even distilled model\n",
      " Train Loss:     0.2934\n",
      "  - Loss_cls: 0.5187\n",
      "  - Loss_div: 0.2719\n",
      "  - Loss_cos: 0.0895\n",
      " Eval Loss:      0.6200\n",
      " Eval Metrics:   Acc=0.8920\n",
      "\n",
      " Epoch 3/5 — even distilled model\n",
      " Train Loss:     0.2892\n",
      "  - Loss_cls: 0.5027\n",
      "  - Loss_div: 0.2763\n",
      "  - Loss_cos: 0.0885\n",
      " Eval Loss:      0.6396\n",
      " Eval Metrics:   Acc=0.8880\n",
      "\n",
      " Epoch 4/5 — even distilled model\n",
      " Train Loss:     0.2857\n",
      "  - Loss_cls: 0.4892\n",
      "  - Loss_div: 0.2803\n",
      "  - Loss_cos: 0.0877\n",
      " Eval Loss:      0.6328\n",
      " Eval Metrics:   Acc=0.9020\n",
      "\n",
      " Epoch 5/5 — even distilled model\n",
      " Train Loss:     0.2844\n",
      "  - Loss_cls: 0.4845\n",
      "  - Loss_div: 0.2812\n",
      "  - Loss_cos: 0.0873\n",
      " Eval Loss:      0.6251\n",
      " Eval Metrics:   Acc=0.8900\n",
      "\n",
      " Average Metrics for even distilled model over 5 epochs:\n",
      "  Accuracy: 0.8924\n",
      "\n",
      "Even model saved to ./even_model.pt\n"
     ]
    }
   ],
   "source": [
    "print(\"\\n---- ODD RESULTS ---\")\n",
    "odd_results = train_distilled_model(odd_model, optimizer_odd, lr_scheduler_odd, \"odd\")\n",
    "\n",
    "print(\"\\n---- EVEN RESULTS ---\")\n",
    "even_results = train_distilled_model(even_model, optimizer_even, lr_scheduler_even, \"even\")"
   ]
  },
  {
   "cell_type": "code",
   "execution_count": 43,
   "metadata": {},
   "outputs": [
    {
     "data": {
      "image/png": "[encoded data removed]",
      "text/plain": [
       "<Figure size 1200x600 with 1 Axes>"
      ]
     },
     "metadata": {},
     "output_type": "display_data"
    },
    {
     "data": {
      "image/png": "[encoded data removed]",
      "text/plain": [
       "<Figure size 1200x600 with 1 Axes>"
      ]
     },
     "metadata": {},
     "output_type": "display_data"
    }
   ],
   "source": [
    "import matplotlib.pyplot as plt\n",
    "\n",
    "def plot_losses(results, student_type=\"odd\"):\n",
    "    epochs_list = range(1, len(results[\"train_losses\"]) + 1)\n",
    "\n",
    "    train_losses = results[\"train_losses\"]\n",
    "    train_losses_cls = results[\"train_cls\"]\n",
    "    train_losses_div = results[\"train_div\"]\n",
    "    train_losses_cos = results[\"train_cos\"]\n",
    "    eval_losses = results[\"eval_losses\"]\n",
    "\n",
    "    plt.figure(figsize=(12, 6))\n",
    "    plt.plot(epochs_list, train_losses, label=\"Total Train Loss\", marker='o')\n",
    "    plt.plot(epochs_list, train_losses_cls, label=\"Train Loss_cls\", marker='s', linestyle=\"--\")\n",
    "    plt.plot(epochs_list, train_losses_div, label=\"Train Loss_div\", marker='^', linestyle=\"-.\")\n",
    "    plt.plot(epochs_list, train_losses_cos, label=\"Train Loss_cos\", marker='x', linestyle=\":\")\n",
    "    plt.plot(epochs_list, eval_losses, label=\"Validation Loss\", marker='d', linestyle=\"-\", color=\"red\")\n",
    "\n",
    "    plt.title(f'{student_type.capitalize()} Model: Training and Validation Losses')\n",
    "    plt.xlabel('Epochs')\n",
    "    plt.ylabel('Loss')\n",
    "    plt.legend()\n",
    "    plt.grid(True)\n",
    "    plt.show()\n",
    "plot_losses(odd_results, \"odd\")\n",
    "plot_losses(even_results, \"even\")"
   ]
  },
  {
   "attachments": {},
   "cell_type": "markdown",
   "metadata": {},
   "source": [
    "### LoRA"
   ]
  },
  {
   "cell_type": "code",
   "execution_count": 45,
   "metadata": {},
   "outputs": [
    {
     "name": "stderr",
     "output_type": "stream",
     "text": [
      "/home/jupyter-st124952/.local/lib/python3.12/site-packages/huggingface_hub/file_download.py:797: FutureWarning: `resume_download` is deprecated and will be removed in version 1.0.0. Downloads always resume when possible. If you want to force a new download, use `force_download=True`.\n",
      "  warnings.warn(\n",
      "Some weights of BertForSequenceClassification were not initialized from the model checkpoint at bert-base-uncased and are newly initialized: ['classifier.bias', 'classifier.weight']\n",
      "You should probably TRAIN this model on a down-stream task to be able to use it for predictions and inference.\n"
     ]
    },
    {
     "name": "stdout",
     "output_type": "stream",
     "text": [
      "trainable params: 297,988 || all params: 109,783,304 || trainable%: 0.2714328947505533\n"
     ]
    }
   ],
   "source": [
    "from peft import get_peft_model, LoraConfig, TaskType\n",
    "from transformers import AutoModelForSequenceClassification\n",
    "\n",
    "lora_model = AutoModelForSequenceClassification.from_pretrained(\n",
    "    \"bert-base-uncased\",\n",
    "    num_labels=num_labels\n",
    ")\n",
    "\n",
    "lora_config = LoraConfig(\n",
    "    task_type=TaskType.CAUSAL_LM,\n",
    "    inference_mode=False,\n",
    "    r=8,           \n",
    "    lora_alpha=16,\n",
    "    lora_dropout=0.1,\n",
    "    bias=\"none\"\n",
    ")\n",
    "\n",
    "lora_model = get_peft_model(lora_model, lora_config)\n",
    "lora_model.print_trainable_parameters() "
   ]
  },
  {
   "cell_type": "markdown",
   "metadata": {},
   "source": [
    "## LoRA Optimizer"
   ]
  },
  {
   "cell_type": "code",
   "execution_count": 47,
   "metadata": {},
   "outputs": [],
   "source": [
    "from transformers import AdamW\n",
    "from transformers import get_scheduler\n",
    "\n",
    "optimizer_lora = AdamW(lora_model.parameters(), lr=2e-5, weight_decay=0.01)\n",
    "\n",
    "num_update_steps_per_epoch = len(train_dataloader)\n",
    "num_training_steps = num_epochs * num_update_steps_per_epoch\n",
    "num_warmup_steps = int(0.1 * num_training_steps)\n",
    "\n",
    "scheduler_lora = get_scheduler(\n",
    "    name=\"linear\",\n",
    "    optimizer=optimizer_lora,\n",
    "    num_warmup_steps=num_warmup_steps,\n",
    "    num_training_steps=num_training_steps,\n",
    ")"
   ]
  },
  {
   "cell_type": "code",
   "execution_count": 56,
   "metadata": {},
   "outputs": [],
   "source": [
    "import torch\n",
    "from tqdm.auto import tqdm\n",
    "import torch.nn as nn\n",
    "import evaluate\n",
    "\n",
    "\n",
    "def train_lora_model(lora_model, teacher_model, optimizer_lora, scheduler_lora, train_dataloader, eval_dataloader, criterion_div, criterion_cos, num_epochs=5, device=\"cuda\", output_file=\"lora_training_results.pt\"):\n",
    "    \"\"\"\n",
    "    Train a LoRA model using knowledge distillation and save results as a .pt file.\n",
    "    \n",
    "    Args:\n",
    "        lora_model: The LoRA-based student model.\n",
    "        teacher_model: The pretrained teacher model.\n",
    "        optimizer_lora: Optimizer for the LoRA model.\n",
    "        scheduler_lora: Learning rate scheduler for the optimizer.\n",
    "        train_dataloader: Dataloader for training data.\n",
    "        eval_dataloader: Dataloader for evaluation data.\n",
    "        criterion_div: Loss function for divergence loss.\n",
    "        criterion_cos: Loss function for cosine similarity loss.\n",
    "        num_epochs: Number of training epochs.\n",
    "        device: The device to run the training on (\"cuda\" or \"cpu\").\n",
    "        output_file: Path to save training results (.pt format).\n",
    "    \n",
    "    Returns:\n",
    "        dict: Training and evaluation metrics history.\n",
    "    \"\"\"\n",
    "    print(\"\\nTraining LoRA Model...\\n\")\n",
    "\n",
    "    lora_model.to(device)\n",
    "    teacher_model.to(device)\n",
    "\n",
    "    # Define loss criteria\n",
    "    metric = evaluate.load(\"accuracy\")\n",
    "\n",
    "    # Track loss and accuracy\n",
    "    train_losses, train_losses_cls, train_losses_div, train_losses_cos = [], [], [], []\n",
    "    eval_losses, eval_metrics_list = [], []\n",
    "    avg_metrics = {\"accuracy\": 0}\n",
    "\n",
    "    # To track accuracy per epoch\n",
    "    accuracies_per_epoch = []\n",
    "\n",
    "    # Progress bar\n",
    "    num_training_steps = num_epochs * len(train_dataloader)\n",
    "    progress_bar = tqdm(range(num_training_steps), desc=\"Training LoRA Model\")\n",
    "\n",
    "    for epoch in range(num_epochs):\n",
    "        # --- Training ---\n",
    "        lora_model.train()\n",
    "        teacher_model.eval()\n",
    "        train_loss, train_loss_cls, train_loss_div, train_loss_cos = 0, 0, 0, 0\n",
    "\n",
    "        for batch in train_dataloader:\n",
    "            batch = {k: v.to(device) for k, v in batch.items()}\n",
    "\n",
    "            outputs = lora_model(**batch)\n",
    "            with torch.no_grad():\n",
    "                output_teacher = teacher_model(**batch)\n",
    "\n",
    "            assert outputs.logits.size() == output_teacher.logits.size(), \"Logits size mismatch\"\n",
    "\n",
    "            # Compute losses\n",
    "            loss_cls = outputs.loss\n",
    "            temperature = 2.0\n",
    "            loss_div = criterion_div(\n",
    "                nn.functional.log_softmax(outputs.logits / temperature, dim=-1),\n",
    "                nn.functional.softmax(output_teacher.logits / temperature, dim=-1)\n",
    "            ) * (temperature ** 2)\n",
    "            target = torch.ones(outputs.logits.size(0), device=device)\n",
    "            loss_cos = criterion_cos(output_teacher.logits, outputs.logits, target)\n",
    "\n",
    "            # Total loss (weighted average)\n",
    "            loss = (loss_cls + loss_div + loss_cos) / 3\n",
    "\n",
    "            # Backpropagation\n",
    "            loss.backward()\n",
    "            optimizer_lora.step()\n",
    "            scheduler_lora.step()\n",
    "            optimizer_lora.zero_grad()\n",
    "            progress_bar.update(1)\n",
    "\n",
    "            # Accumulate losses\n",
    "            train_loss += loss.item()\n",
    "            train_loss_cls += loss_cls.item()\n",
    "            train_loss_div += loss_div.item()\n",
    "            train_loss_cos += loss_cos.item()\n",
    "\n",
    "        # Store training losses\n",
    "        train_losses.append(train_loss / len(train_dataloader))\n",
    "        train_losses_cls.append(train_loss_cls / len(train_dataloader))\n",
    "        train_losses_div.append(train_loss_div / len(train_dataloader))\n",
    "        train_losses_cos.append(train_loss_cos / len(train_dataloader))\n",
    "\n",
    "        print(f'LoRA Model - Epoch {epoch+1}: Train loss {train_losses[-1]:.4f}')\n",
    "        print(f'  - Loss_cls: {train_losses_cls[-1]:.4f}')\n",
    "        print(f'  - Loss_div: {train_losses_div[-1]:.4f}')\n",
    "        print(f'  - Loss_cos: {train_losses_cos[-1]:.4f}')\n",
    "\n",
    "        # --- Evaluation ---\n",
    "        lora_model.eval()\n",
    "        eval_loss, all_preds, all_labels = 0, [], []\n",
    "\n",
    "        for batch in eval_dataloader:\n",
    "            batch = {k: v.to(device) for k, v in batch.items()}\n",
    "            with torch.no_grad():\n",
    "                outputs = lora_model(**batch)\n",
    "                loss_cls = outputs.loss\n",
    "                preds = outputs.logits.argmax(dim=-1)\n",
    "\n",
    "            eval_loss += loss_cls.item()\n",
    "            all_preds.extend(preds.cpu().numpy())\n",
    "            all_labels.extend(batch[\"labels\"].cpu().numpy())\n",
    "\n",
    "        eval_metric = metric.compute(predictions=all_preds, references=all_labels)\n",
    "        avg_metrics[\"accuracy\"] += eval_metric[\"accuracy\"]\n",
    "\n",
    "        eval_losses.append(eval_loss / len(eval_dataloader))\n",
    "        eval_metrics_list.append(eval_metric)\n",
    "\n",
    "        accuracies_per_epoch.append(eval_metric[\"accuracy\"])  # Store accuracy for each epoch\n",
    "\n",
    "        print(f\"LoRA Model - Epoch {epoch+1}: Val Acc {eval_metric['accuracy']:.4f}\")\n",
    "\n",
    "    # Compute final average accuracy\n",
    "    final_avg_accuracy = avg_metrics[\"accuracy\"] / num_epochs\n",
    "    print(f'\\nLoRA Model - Avg Accuracy: {final_avg_accuracy:.4f}')\n",
    "\n",
    "    # Save results as .pt file\n",
    "    results = {\n",
    "        \"train_losses\": train_losses,\n",
    "        \"train_cls\": train_losses_cls,\n",
    "        \"train_div\": train_losses_div,\n",
    "        \"train_cos\": train_losses_cos,\n",
    "        \"eval_losses\": eval_losses,\n",
    "        \"metrics_per_epoch\": eval_metrics_list,\n",
    "        \"accuracies_per_epoch\": accuracies_per_epoch,  # Added accuracies per epoch\n",
    "        \"final_avg_metrics\": {\"accuracy\": final_avg_accuracy}\n",
    "    }\n",
    "\n",
    "    torch.save(results, output_file)\n",
    "    print(f\"Training results saved to {output_file}\")\n",
    "\n",
    "    return results"
   ]
  },
  {
   "cell_type": "code",
   "execution_count": 49,
   "metadata": {},
   "outputs": [
    {
     "name": "stdout",
     "output_type": "stream",
     "text": [
      "\n",
      "Training LoRA Model...\n",
      "\n"
     ]
    },
    {
     "data": {
      "application/vnd.jupyter.widget-view+json": {
       "model_id": "403047bd68404c9d8ae115011ec872d4",
       "version_major": 2,
       "version_minor": 0
      },
      "text/plain": [
       "Training LoRA Model:   0%|          | 0/1410 [00:00<?, ?it/s]"
      ]
     },
     "metadata": {},
     "output_type": "display_data"
    },
    {
     "name": "stdout",
     "output_type": "stream",
     "text": [
      "LoRA Model - Epoch 1: Train loss 0.5614\n",
      "  - Loss_cls: 1.2117\n",
      "  - Loss_div: 0.0503\n",
      "  - Loss_cos: 0.4221\n",
      "LoRA Model - Epoch 1: Val Acc 0.8560\n",
      "LoRA Model - Epoch 2: Train loss 0.4014\n",
      "  - Loss_cls: 0.9165\n",
      "  - Loss_div: 0.1057\n",
      "  - Loss_cos: 0.1820\n",
      "LoRA Model - Epoch 2: Val Acc 0.8580\n",
      "LoRA Model - Epoch 3: Train loss 0.3730\n",
      "  - Loss_cls: 0.8119\n",
      "  - Loss_div: 0.1575\n",
      "  - Loss_cos: 0.1497\n",
      "LoRA Model - Epoch 3: Val Acc 0.8580\n",
      "LoRA Model - Epoch 4: Train loss 0.3655\n",
      "  - Loss_cls: 0.7867\n",
      "  - Loss_div: 0.1722\n",
      "  - Loss_cos: 0.1376\n",
      "LoRA Model - Epoch 4: Val Acc 0.8580\n",
      "LoRA Model - Epoch 5: Train loss 0.3629\n",
      "  - Loss_cls: 0.7814\n",
      "  - Loss_div: 0.1746\n",
      "  - Loss_cos: 0.1327\n",
      "LoRA Model - Epoch 5: Val Acc 0.8580\n",
      "\n",
      "LoRA Model - Avg Accuracy: 0.8576\n",
      "Training results saved to lora_training_results.pt\n"
     ]
    }
   ],
   "source": [
    "lora_results = train_lora_model(lora_model, teacher_model, optimizer_lora, scheduler_lora, train_dataloader, eval_dataloader, criterion_div, criterion_cos, num_epochs, device)"
   ]
  },
  {
   "cell_type": "code",
   "execution_count": 50,
   "metadata": {},
   "outputs": [
    {
     "data": {
      "image/png": "[encoded data removed]",
      "text/plain": [
       "<Figure size 1200x600 with 1 Axes>"
      ]
     },
     "metadata": {},
     "output_type": "display_data"
    }
   ],
   "source": [
    "import torch\n",
    "import matplotlib.pyplot as plt\n",
    "\n",
    "# Load saved results\n",
    "results = torch.load(\"lora_training_results.pt\")\n",
    "\n",
    "# Extract losses\n",
    "train_losses = results[\"train_losses\"]\n",
    "train_losses_cls = results[\"train_cls\"]\n",
    "train_losses_div = results[\"train_div\"]\n",
    "train_losses_cos = results[\"train_cos\"]\n",
    "eval_losses = results[\"eval_losses\"]\n",
    "\n",
    "# Define epochs list\n",
    "num_epochs = len(train_losses)  # Ensure consistency\n",
    "epochs_list = range(1, num_epochs + 1)\n",
    "\n",
    "plt.figure(figsize=(12, 6))\n",
    "plt.plot(epochs_list, train_losses, label=\"Total Train Loss\", marker='o')\n",
    "plt.plot(epochs_list, train_losses_cls, label=\"Train Loss_cls\", marker='s', linestyle=\"--\")\n",
    "plt.plot(epochs_list, train_losses_div, label=\"Train Loss_div\", marker='^', linestyle=\"-.\")\n",
    "plt.plot(epochs_list, train_losses_cos, label=\"Train Loss_cos\", marker='x', linestyle=\":\")\n",
    "plt.plot(epochs_list, eval_losses, label=\"Validation Loss\", marker='d', linestyle=\"-\", color=\"red\")\n",
    "\n",
    "plt.title('LoRA Model: Training and Validation Losses')\n",
    "plt.xlabel('Epochs')\n",
    "plt.ylabel('Loss')\n",
    "plt.legend()\n",
    "plt.grid(True)\n",
    "plt.show()"
   ]
  },
  {
   "attachments": {},
   "cell_type": "markdown",
   "metadata": {},
   "source": [
    "### Inference"
   ]
  },
  {
   "cell_type": "code",
   "execution_count": 58,
   "metadata": {},
   "outputs": [
    {
     "data": {
      "text/plain": [
       "<All keys matched successfully>"
      ]
     },
     "execution_count": 58,
     "metadata": {},
     "output_type": "execute_result"
    }
   ],
   "source": [
    "from transformers import BertForSequenceClassification\n",
    "model = odd_model\n",
    "# Now load the state dict\n",
    "model.load_state_dict(torch.load('odd_model.pt', map_location=torch.device('cpu')), strict=False)"
   ]
  },
  {
   "cell_type": "code",
   "execution_count": 59,
   "metadata": {},
   "outputs": [
    {
     "name": "stdout",
     "output_type": "stream",
     "text": [
      "Predicted label: noHate\n"
     ]
    }
   ],
   "source": [
    "# Determine the device to use (GPU if available, else CPU)\n",
    "# device = torch.device(\"cuda\" if torch.cuda.is_available() else \"cpu\")\n",
    "device = torch.device(\"cpu\")\n",
    "\n",
    "# Load your tokenizer (make sure it's the one used during training)\n",
    "tokenizer = AutoTokenizer.from_pretrained(\"./saved_tokenizer\")\n",
    "\n",
    "# Sample text input.\n",
    "text = \"i hate you\"\n",
    "inputs = tokenizer(text, return_tensors=\"pt\")\n",
    "\n",
    "# Move the model and inputs to the same device\n",
    "model.to(device)\n",
    "inputs = {key: value.to(device) for key, value in inputs.items()}\n",
    "\n",
    "# Perform inference within a no_grad() context to disable gradient tracking.\n",
    "with torch.no_grad():\n",
    "    outputs = model(**inputs)\n",
    "\n",
    "logits = outputs.logits\n",
    "\n",
    "# For classification, choose the class with the highest logit.\n",
    "predicted_class_id = torch.argmax(logits, dim=-1).item()\n",
    "label_mapping = {0: 'noHate', 1: 'hate', 2: 'idk/skip', 3: 'relation'}\n",
    "predicted_label = label_mapping[predicted_class_id]\n",
    "print(\"Predicted label:\", predicted_label)"
   ]
  },
  {
   "cell_type": "code",
   "execution_count": 60,
   "metadata": {},
   "outputs": [
    {
     "data": {
      "text/plain": [
       "BertForSequenceClassification(\n",
       "  (bert): BertModel(\n",
       "    (embeddings): BertEmbeddings(\n",
       "      (word_embeddings): Embedding(30522, 768, padding_idx=0)\n",
       "      (position_embeddings): Embedding(512, 768)\n",
       "      (token_type_embeddings): Embedding(2, 768)\n",
       "      (LayerNorm): LayerNorm((768,), eps=1e-12, elementwise_affine=True)\n",
       "      (dropout): Dropout(p=0.1, inplace=False)\n",
       "    )\n",
       "    (encoder): BertEncoder(\n",
       "      (layer): ModuleList(\n",
       "        (0-5): 6 x BertLayer(\n",
       "          (attention): BertAttention(\n",
       "            (self): BertSelfAttention(\n",
       "              (query): Linear(in_features=768, out_features=768, bias=True)\n",
       "              (key): Linear(in_features=768, out_features=768, bias=True)\n",
       "              (value): Linear(in_features=768, out_features=768, bias=True)\n",
       "              (dropout): Dropout(p=0.1, inplace=False)\n",
       "            )\n",
       "            (output): BertSelfOutput(\n",
       "              (dense): Linear(in_features=768, out_features=768, bias=True)\n",
       "              (LayerNorm): LayerNorm((768,), eps=1e-12, elementwise_affine=True)\n",
       "              (dropout): Dropout(p=0.1, inplace=False)\n",
       "            )\n",
       "          )\n",
       "          (intermediate): BertIntermediate(\n",
       "            (dense): Linear(in_features=768, out_features=3072, bias=True)\n",
       "            (intermediate_act_fn): GELUActivation()\n",
       "          )\n",
       "          (output): BertOutput(\n",
       "            (dense): Linear(in_features=3072, out_features=768, bias=True)\n",
       "            (LayerNorm): LayerNorm((768,), eps=1e-12, elementwise_affine=True)\n",
       "            (dropout): Dropout(p=0.1, inplace=False)\n",
       "          )\n",
       "        )\n",
       "      )\n",
       "    )\n",
       "    (pooler): BertPooler(\n",
       "      (dense): Linear(in_features=768, out_features=768, bias=True)\n",
       "      (activation): Tanh()\n",
       "    )\n",
       "  )\n",
       "  (dropout): Dropout(p=0.1, inplace=False)\n",
       "  (classifier): Linear(in_features=768, out_features=4, bias=True)\n",
       ")"
      ]
     },
     "execution_count": 60,
     "metadata": {},
     "output_type": "execute_result"
    }
   ],
   "source": [
    "odd_model"
   ]
  },
  {
   "cell_type": "code",
   "execution_count": 62,
   "metadata": {},
   "outputs": [
    {
     "data": {
      "image/png": "[encoded data removed]",
      "text/plain": [
       "<Figure size 1200x600 with 1 Axes>"
      ]
     },
     "metadata": {},
     "output_type": "display_data"
    }
   ],
   "source": [
    "import matplotlib.pyplot as plt\n",
    "\n",
    "# Plotting accuracy for all models\n",
    "plt.figure(figsize=(12, 6))\n",
    "\n",
    "# Plot accuracies for odd model\n",
    "plt.plot(range(1, num_epochs + 1), odd_results[\"accuracies_per_epoch\"], label=\"Odd Model Accuracy\", marker='o')\n",
    "\n",
    "# Plot accuracies for even model\n",
    "plt.plot(range(1, num_epochs + 1), even_results[\"accuracies_per_epoch\"], label=\"Even Model Accuracy\", marker='s')\n",
    "\n",
    "# Plot accuracies for LoRA model\n",
    "plt.plot(range(1, num_epochs + 1), lora_results[\"accuracies_per_epoch\"], label=\"LoRA Model Accuracy\", marker='^')\n",
    "\n",
    "# Title and labels\n",
    "plt.title('Model Comparison: Odd, Even, and LoRA (Accuracy)')\n",
    "plt.xlabel('Epochs')\n",
    "plt.ylabel('Accuracy')\n",
    "plt.legend()\n",
    "plt.grid(True)\n",
    "plt.show()\n"
   ]
  },
  {
   "cell_type": "code",
   "execution_count": null,
   "metadata": {},
   "outputs": [],
   "source": []
  }
 ],
 "metadata": {
  "kernelspec": {
   "display_name": "Python 3 (ipykernel)",
   "language": "python",
   "name": "python3"
  },
  "language_info": {
   "codemirror_mode": {
    "name": "ipython",
    "version": 3
   },
   "file_extension": ".py",
   "mimetype": "text/x-python",
   "name": "python",
   "nbconvert_exporter": "python",
   "pygments_lexer": "ipython3",
   "version": "3.12.6"
  }
 },
 "nbformat": 4,
 "nbformat_minor": 4
}
